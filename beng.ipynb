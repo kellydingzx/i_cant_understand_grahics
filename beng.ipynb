{
  "nbformat": 4,
  "nbformat_minor": 0,
  "metadata": {
    "colab": {
      "name": "beng.ipynb",
      "provenance": [],
      "collapsed_sections": [],
      "authorship_tag": "ABX9TyP2LPO9HiNgK/D3uIYMYPId",
      "include_colab_link": true
    },
    "kernelspec": {
      "name": "python3",
      "display_name": "Python 3"
    },
    "language_info": {
      "name": "python"
    }
  },
  "cells": [
    {
      "cell_type": "markdown",
      "metadata": {
        "id": "view-in-github",
        "colab_type": "text"
      },
      "source": [
        "<a href=\"https://colab.research.google.com/github/kellydingzx/i_cant_understand_grahics/blob/main/beng.ipynb\" target=\"_parent\"><img src=\"https://colab.research.google.com/assets/colab-badge.svg\" alt=\"Open In Colab\"/></a>"
      ]
    },
    {
      "cell_type": "code",
      "metadata": {
        "id": "lTFhBzIrpwV-"
      },
      "source": [
        "import numpy as np\n",
        "import math\n",
        "import matplotlib.pyplot as plt\n",
        "import matplotlib.lines as mlines"
      ],
      "execution_count": 175,
      "outputs": []
    },
    {
      "cell_type": "code",
      "metadata": {
        "id": "VXwsrR31q92A"
      },
      "source": [
        "zeros = np.random.poisson(3, 1000)\n",
        "ones = np.random.poisson(20, 1000)"
      ],
      "execution_count": 224,
      "outputs": []
    },
    {
      "cell_type": "code",
      "metadata": {
        "id": "k51P0eMm5xMj"
      },
      "source": [
        "# hyperplane\n",
        "def find_hyper_c1(theta,l0,l1):\n",
        "  w0 = math.log(theta/(1-theta)) - (l1-l0)\n",
        "  w = math.log(l1)-math.log(l0)\n",
        "  return(w0,w)"
      ],
      "execution_count": 248,
      "outputs": []
    },
    {
      "cell_type": "code",
      "metadata": {
        "id": "QQwVEegkDzj2"
      },
      "source": [
        "# hyperplane\n",
        "def find_hyper_c2(theta,l0,l1):\n",
        "  w0 = math.log(theta/(1-theta)) - (l1-l0) - math.log(1/1000)\n",
        "  w = math.log(l1)-math.log(l0)\n",
        "  return(w0,w)"
      ],
      "execution_count": 252,
      "outputs": []
    },
    {
      "cell_type": "code",
      "metadata": {
        "id": "KCdYrjgHw2-k"
      },
      "source": [
        "def plot_graph(zero_class, one_class,find_hyper):\n",
        "  plt.ylim(-1,2)\n",
        "  plt.plot(zero_class,[0]*len(zero_class), '.', color='black')\n",
        "  plt.plot(one_class,[1]*len(one_class), '.', color='red')\n",
        "  b = find_hyper(0.5,3,20)[0]\n",
        "  k = find_hyper(0.5,3,20)[1]\n",
        "  point1 = [0, b]\n",
        "  point2 = [100,k*100+b]\n",
        "  x_values = [point1[0], point2[0]]\n",
        "  y_values = [point1[1], point2[1]]\n",
        "  plt.plot(x_values, y_values)\n",
        "  plt.show()"
      ],
      "execution_count": 250,
      "outputs": []
    },
    {
      "cell_type": "code",
      "metadata": {
        "colab": {
          "base_uri": "https://localhost:8080/",
          "height": 269
        },
        "id": "uLav2ma3r8b3",
        "outputId": "41260082-4216-4683-f0cb-f00256092609"
      },
      "source": [
        "plot_graph(zeros, ones,find_hyper_c1)"
      ],
      "execution_count": 251,
      "outputs": [
        {
          "output_type": "display_data",
          "data": {
            "image/png": "[encoded data removed]",
            "text/plain": [
              "<Figure size 432x288 with 1 Axes>"
            ]
          },
          "metadata": {
            "needs_background": "light"
          }
        }
      ]
    },
    {
      "cell_type": "code",
      "metadata": {
        "colab": {
          "base_uri": "https://localhost:8080/",
          "height": 269
        },
        "id": "uv2T3Q-r6fpD",
        "outputId": "47d2c52f-7c60-42cc-a4ff-d58ee4f162ac"
      },
      "source": [
        "plot_graph(zeros, ones,find_hyper_c2)"
      ],
      "execution_count": 253,
      "outputs": [
        {
          "output_type": "display_data",
          "data": {
            "image/png": "[encoded data removed]",
            "text/plain": [
              "<Figure size 432x288 with 1 Axes>"
            ]
          },
          "metadata": {
            "needs_background": "light"
          }
        }
      ]
    }
  ]
}